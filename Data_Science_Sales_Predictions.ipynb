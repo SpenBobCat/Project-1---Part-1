{
  "nbformat": 4,
  "nbformat_minor": 0,
  "metadata": {
    "colab": {
      "provenance": [],
      "authorship_tag": "ABX9TyOV8kLpdVRREOLdnZUr1Dvt",
      "include_colab_link": true
    },
    "kernelspec": {
      "name": "python3",
      "display_name": "Python 3"
    },
    "language_info": {
      "name": "python"
    }
  },
  "cells": [
    {
      "cell_type": "markdown",
      "metadata": {
        "id": "view-in-github",
        "colab_type": "text"
      },
      "source": [
        "<a href=\"https://colab.research.google.com/github/SpenBobCat/Project-1-Sales-Predictions/blob/main/Data_Science_Sales_Predictions.ipynb\" target=\"_parent\"><img src=\"https://colab.research.google.com/assets/colab-badge.svg\" alt=\"Open In Colab\"/></a>"
      ]
    },
    {
      "cell_type": "markdown",
      "source": [
        "# **Data Science Sales Predictions**\n",
        "\n",
        "# Michael Spencer"
      ],
      "metadata": {
        "id": "sCQBCfGaYU36"
      }
    },
    {
      "cell_type": "code",
      "execution_count": null,
      "metadata": {
        "id": "8esiiZQnYROd"
      },
      "outputs": [],
      "source": []
    },
    {
      "cell_type": "markdown",
      "source": [
        "## Loading Data"
      ],
      "metadata": {
        "id": "dih9dZbRYuqw"
      }
    },
    {
      "cell_type": "code",
      "source": [],
      "metadata": {
        "id": "xs2VDKnLZHQ7"
      },
      "execution_count": null,
      "outputs": []
    },
    {
      "cell_type": "markdown",
      "source": [
        "## Data Cleaning"
      ],
      "metadata": {
        "id": "0llQr519ZJes"
      }
    },
    {
      "cell_type": "code",
      "source": [],
      "metadata": {
        "id": "QT_RFtP-ZMjj"
      },
      "execution_count": null,
      "outputs": []
    },
    {
      "cell_type": "markdown",
      "source": [
        "## Exploratory Visuals"
      ],
      "metadata": {
        "id": "PjgDLN3GZNRD"
      }
    },
    {
      "cell_type": "code",
      "source": [],
      "metadata": {
        "id": "6NqCiHHpZRnK"
      },
      "execution_count": null,
      "outputs": []
    },
    {
      "cell_type": "markdown",
      "source": [
        "## Explanatory Visuals"
      ],
      "metadata": {
        "id": "0gNTrwPMZSGy"
      }
    },
    {
      "cell_type": "code",
      "source": [],
      "metadata": {
        "id": "A5aATnPaZXZr"
      },
      "execution_count": null,
      "outputs": []
    }
  ]
}